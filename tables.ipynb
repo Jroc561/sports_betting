{
 "metadata": {
  "language_info": {
   "codemirror_mode": {
    "name": "ipython",
    "version": 3
   },
   "file_extension": ".py",
   "mimetype": "text/x-python",
   "name": "python",
   "nbconvert_exporter": "python",
   "pygments_lexer": "ipython3",
   "version": "3.7.9-final"
  },
  "orig_nbformat": 2,
  "kernelspec": {
   "name": "python3",
   "display_name": "Python 3.7.9 64-bit ('Portfolio-Tracker': pipenv)",
   "metadata": {
    "interpreter": {
     "hash": "0600588c3b5f4418cbe7b5ebc6825b479f3bc010269d8b60d75058cdd010adfe"
    }
   }
  }
 },
 "nbformat": 4,
 "nbformat_minor": 2,
 "cells": [
  {
   "cell_type": "code",
   "execution_count": 1,
   "metadata": {},
   "outputs": [],
   "source": [
    "import pandas as pd\n",
    "import requests\n",
    "import plotly_express as px\n",
    "import plotly.graph_objects as go"
   ]
  },
  {
   "cell_type": "code",
   "execution_count": 2,
   "metadata": {},
   "outputs": [],
   "source": [
    "url = 'https://www.legalsportsreport.com/sports-betting/revenue/'\n",
    "\n",
    "header = {\n",
    "  \"User-Agent\": \"Mozilla/5.0 (X11; Linux x86_64) AppleWebKit/537.36 (KHTML, like Gecko) Chrome/50.0.2661.75 Safari/537.36\",\n",
    "  \"X-Requested-With\": \"XMLHttpRequest\"\n",
    "}\n",
    "\n",
    "r = requests.get(url, headers=header)\n",
    "\n",
    "tables = pd.read_html(r.text)"
   ]
  },
  {
   "cell_type": "code",
   "execution_count": null,
   "metadata": {},
   "outputs": [],
   "source": [
    "\"\"\" \n",
    "Handle: Amount wagered over the time period.\n",
    "Revenue: Amount of money kept by sportsbooks out of the amount wagered.\n",
    "Hold %: How much revenue sportsbooks keep as a function of handle.\n",
    "Taxes/state revenue: Taxes collected by state and local jurisdictions; or state share of proceeds in revenue-sharing markets. \"\"\""
   ]
  },
  {
   "cell_type": "code",
   "execution_count": 3,
   "metadata": {},
   "outputs": [
    {
     "output_type": "execute_result",
     "data": {
      "text/plain": [
       "          State    Date     Handle   Revenue    Hold      Taxes\n",
       "0    new_jersey  19-Jan  385279662  18777582   4.90%  2532619.0\n",
       "1    new_jersey  19-Feb  320368087  12732740   4.00%  1817553.0\n",
       "2    new_jersey  19-Mar  372451342  31669387   8.50%  4180051.0\n",
       "3    new_jersey  19-Apr  313719562  21215747   6.80%  2817206.0\n",
       "4    new_jersey  19-May  318940677  15536384   4.90%  2135704.0\n",
       "..          ...     ...        ...       ...     ...        ...\n",
       "236    illinois  20-Jul   52524820   3623985   6.90%   585623.0\n",
       "237    illinois  20-Aug  140065649   7233360   5.20%  1176754.0\n",
       "238    illinois  20-Sep  305222938   6837289   2.20%  1107906.0\n",
       "239    illinois  20-Oct  434310957  42200300   9.70%  6807284.0\n",
       "240   tennessee  20-Nov  131444523  13244908  10.10%  2363918.0\n",
       "\n",
       "[241 rows x 6 columns]"
      ],
      "text/html": "<div>\n<style scoped>\n    .dataframe tbody tr th:only-of-type {\n        vertical-align: middle;\n    }\n\n    .dataframe tbody tr th {\n        vertical-align: top;\n    }\n\n    .dataframe thead th {\n        text-align: right;\n    }\n</style>\n<table border=\"1\" class=\"dataframe\">\n  <thead>\n    <tr style=\"text-align: right;\">\n      <th></th>\n      <th>State</th>\n      <th>Date</th>\n      <th>Handle</th>\n      <th>Revenue</th>\n      <th>Hold</th>\n      <th>Taxes</th>\n    </tr>\n  </thead>\n  <tbody>\n    <tr>\n      <th>0</th>\n      <td>new_jersey</td>\n      <td>19-Jan</td>\n      <td>385279662</td>\n      <td>18777582</td>\n      <td>4.90%</td>\n      <td>2532619.0</td>\n    </tr>\n    <tr>\n      <th>1</th>\n      <td>new_jersey</td>\n      <td>19-Feb</td>\n      <td>320368087</td>\n      <td>12732740</td>\n      <td>4.00%</td>\n      <td>1817553.0</td>\n    </tr>\n    <tr>\n      <th>2</th>\n      <td>new_jersey</td>\n      <td>19-Mar</td>\n      <td>372451342</td>\n      <td>31669387</td>\n      <td>8.50%</td>\n      <td>4180051.0</td>\n    </tr>\n    <tr>\n      <th>3</th>\n      <td>new_jersey</td>\n      <td>19-Apr</td>\n      <td>313719562</td>\n      <td>21215747</td>\n      <td>6.80%</td>\n      <td>2817206.0</td>\n    </tr>\n    <tr>\n      <th>4</th>\n      <td>new_jersey</td>\n      <td>19-May</td>\n      <td>318940677</td>\n      <td>15536384</td>\n      <td>4.90%</td>\n      <td>2135704.0</td>\n    </tr>\n    <tr>\n      <th>...</th>\n      <td>...</td>\n      <td>...</td>\n      <td>...</td>\n      <td>...</td>\n      <td>...</td>\n      <td>...</td>\n    </tr>\n    <tr>\n      <th>236</th>\n      <td>illinois</td>\n      <td>20-Jul</td>\n      <td>52524820</td>\n      <td>3623985</td>\n      <td>6.90%</td>\n      <td>585623.0</td>\n    </tr>\n    <tr>\n      <th>237</th>\n      <td>illinois</td>\n      <td>20-Aug</td>\n      <td>140065649</td>\n      <td>7233360</td>\n      <td>5.20%</td>\n      <td>1176754.0</td>\n    </tr>\n    <tr>\n      <th>238</th>\n      <td>illinois</td>\n      <td>20-Sep</td>\n      <td>305222938</td>\n      <td>6837289</td>\n      <td>2.20%</td>\n      <td>1107906.0</td>\n    </tr>\n    <tr>\n      <th>239</th>\n      <td>illinois</td>\n      <td>20-Oct</td>\n      <td>434310957</td>\n      <td>42200300</td>\n      <td>9.70%</td>\n      <td>6807284.0</td>\n    </tr>\n    <tr>\n      <th>240</th>\n      <td>tennessee</td>\n      <td>20-Nov</td>\n      <td>131444523</td>\n      <td>13244908</td>\n      <td>10.10%</td>\n      <td>2363918.0</td>\n    </tr>\n  </tbody>\n</table>\n<p>241 rows × 6 columns</p>\n</div>"
     },
     "metadata": {},
     "execution_count": 3
    }
   ],
   "source": [
    "complete = pd.read_csv('complete.csv', index_col=False)\n",
    "complete"
   ]
  },
  {
   "cell_type": "code",
   "execution_count": 4,
   "metadata": {},
   "outputs": [
    {
     "output_type": "execute_result",
     "data": {
      "text/plain": [
       "         State    Date     Handle   Revenue   Hold      Taxes\n",
       "0   new_jersey  19-Jan  385279662  18777582  4.90%  2532619.0\n",
       "1   new_jersey  19-Feb  320368087  12732740  4.00%  1817553.0\n",
       "2   new_jersey  19-Mar  372451342  31669387  8.50%  4180051.0\n",
       "3   new_jersey  19-Apr  313719562  21215747  6.80%  2817206.0\n",
       "4   new_jersey  19-May  318940677  15536384  4.90%  2135704.0\n",
       "5   new_jersey  19-Jun  273222975   9701925  3.60%  1258541.0\n",
       "6   new_jersey  19-Jul  251371272  17884790  7.10%  2367745.0\n",
       "7   new_jersey  19-Aug  293594862  25210342  8.60%  3327589.0\n",
       "8   new_jersey  19-Sep  445563503  37883375  8.50%  5017875.0\n",
       "9   new_jersey  19-Oct  487924504  46393537  9.50%  5662148.0\n",
       "10  new_jersey  19-Nov  562675543  32895546  5.90%  4460461.0\n",
       "11  new_jersey  19-Dec  557786161  29424884  5.30%  4016635.0\n",
       "12  new_jersey  20-Jan  540113452  53561626  9.90%  7328175.0\n",
       "13  new_jersey  20-Feb  494813807  17000928  3.40%  2377923.0\n",
       "14  new_jersey  20-Mar  181908529  13181101  7.20%  1732276.0\n",
       "15  new_jersey  20-Apr   54593092   2634050  4.80%   356726.0\n",
       "16  new_jersey  20-May  117821281   9912062  8.40%  1303244.0\n",
       "17  new_jersey  20-Jun  165014553  12639282  7.70%  1652950.0\n",
       "18  new_jersey  20-Jul  315118805  29551987  9.40%  3671891.0\n",
       "19  new_jersey  20-Aug  667979150  39507181  5.90%  4919340.0\n",
       "20  new_jersey  20-Sep  748588349  45083178  6.00%  5604501.0\n",
       "21  new_jersey  20-Oct  803096172  58508647  7.30%  7440873.0\n",
       "22  new_jersey  20-Nov  931620415  50554535  5.40%  6233822.0\n",
       "23  new_jersey  20-Dec  996300794  66386516  6.70%  8269676.0"
      ],
      "text/html": "<div>\n<style scoped>\n    .dataframe tbody tr th:only-of-type {\n        vertical-align: middle;\n    }\n\n    .dataframe tbody tr th {\n        vertical-align: top;\n    }\n\n    .dataframe thead th {\n        text-align: right;\n    }\n</style>\n<table border=\"1\" class=\"dataframe\">\n  <thead>\n    <tr style=\"text-align: right;\">\n      <th></th>\n      <th>State</th>\n      <th>Date</th>\n      <th>Handle</th>\n      <th>Revenue</th>\n      <th>Hold</th>\n      <th>Taxes</th>\n    </tr>\n  </thead>\n  <tbody>\n    <tr>\n      <th>0</th>\n      <td>new_jersey</td>\n      <td>19-Jan</td>\n      <td>385279662</td>\n      <td>18777582</td>\n      <td>4.90%</td>\n      <td>2532619.0</td>\n    </tr>\n    <tr>\n      <th>1</th>\n      <td>new_jersey</td>\n      <td>19-Feb</td>\n      <td>320368087</td>\n      <td>12732740</td>\n      <td>4.00%</td>\n      <td>1817553.0</td>\n    </tr>\n    <tr>\n      <th>2</th>\n      <td>new_jersey</td>\n      <td>19-Mar</td>\n      <td>372451342</td>\n      <td>31669387</td>\n      <td>8.50%</td>\n      <td>4180051.0</td>\n    </tr>\n    <tr>\n      <th>3</th>\n      <td>new_jersey</td>\n      <td>19-Apr</td>\n      <td>313719562</td>\n      <td>21215747</td>\n      <td>6.80%</td>\n      <td>2817206.0</td>\n    </tr>\n    <tr>\n      <th>4</th>\n      <td>new_jersey</td>\n      <td>19-May</td>\n      <td>318940677</td>\n      <td>15536384</td>\n      <td>4.90%</td>\n      <td>2135704.0</td>\n    </tr>\n    <tr>\n      <th>5</th>\n      <td>new_jersey</td>\n      <td>19-Jun</td>\n      <td>273222975</td>\n      <td>9701925</td>\n      <td>3.60%</td>\n      <td>1258541.0</td>\n    </tr>\n    <tr>\n      <th>6</th>\n      <td>new_jersey</td>\n      <td>19-Jul</td>\n      <td>251371272</td>\n      <td>17884790</td>\n      <td>7.10%</td>\n      <td>2367745.0</td>\n    </tr>\n    <tr>\n      <th>7</th>\n      <td>new_jersey</td>\n      <td>19-Aug</td>\n      <td>293594862</td>\n      <td>25210342</td>\n      <td>8.60%</td>\n      <td>3327589.0</td>\n    </tr>\n    <tr>\n      <th>8</th>\n      <td>new_jersey</td>\n      <td>19-Sep</td>\n      <td>445563503</td>\n      <td>37883375</td>\n      <td>8.50%</td>\n      <td>5017875.0</td>\n    </tr>\n    <tr>\n      <th>9</th>\n      <td>new_jersey</td>\n      <td>19-Oct</td>\n      <td>487924504</td>\n      <td>46393537</td>\n      <td>9.50%</td>\n      <td>5662148.0</td>\n    </tr>\n    <tr>\n      <th>10</th>\n      <td>new_jersey</td>\n      <td>19-Nov</td>\n      <td>562675543</td>\n      <td>32895546</td>\n      <td>5.90%</td>\n      <td>4460461.0</td>\n    </tr>\n    <tr>\n      <th>11</th>\n      <td>new_jersey</td>\n      <td>19-Dec</td>\n      <td>557786161</td>\n      <td>29424884</td>\n      <td>5.30%</td>\n      <td>4016635.0</td>\n    </tr>\n    <tr>\n      <th>12</th>\n      <td>new_jersey</td>\n      <td>20-Jan</td>\n      <td>540113452</td>\n      <td>53561626</td>\n      <td>9.90%</td>\n      <td>7328175.0</td>\n    </tr>\n    <tr>\n      <th>13</th>\n      <td>new_jersey</td>\n      <td>20-Feb</td>\n      <td>494813807</td>\n      <td>17000928</td>\n      <td>3.40%</td>\n      <td>2377923.0</td>\n    </tr>\n    <tr>\n      <th>14</th>\n      <td>new_jersey</td>\n      <td>20-Mar</td>\n      <td>181908529</td>\n      <td>13181101</td>\n      <td>7.20%</td>\n      <td>1732276.0</td>\n    </tr>\n    <tr>\n      <th>15</th>\n      <td>new_jersey</td>\n      <td>20-Apr</td>\n      <td>54593092</td>\n      <td>2634050</td>\n      <td>4.80%</td>\n      <td>356726.0</td>\n    </tr>\n    <tr>\n      <th>16</th>\n      <td>new_jersey</td>\n      <td>20-May</td>\n      <td>117821281</td>\n      <td>9912062</td>\n      <td>8.40%</td>\n      <td>1303244.0</td>\n    </tr>\n    <tr>\n      <th>17</th>\n      <td>new_jersey</td>\n      <td>20-Jun</td>\n      <td>165014553</td>\n      <td>12639282</td>\n      <td>7.70%</td>\n      <td>1652950.0</td>\n    </tr>\n    <tr>\n      <th>18</th>\n      <td>new_jersey</td>\n      <td>20-Jul</td>\n      <td>315118805</td>\n      <td>29551987</td>\n      <td>9.40%</td>\n      <td>3671891.0</td>\n    </tr>\n    <tr>\n      <th>19</th>\n      <td>new_jersey</td>\n      <td>20-Aug</td>\n      <td>667979150</td>\n      <td>39507181</td>\n      <td>5.90%</td>\n      <td>4919340.0</td>\n    </tr>\n    <tr>\n      <th>20</th>\n      <td>new_jersey</td>\n      <td>20-Sep</td>\n      <td>748588349</td>\n      <td>45083178</td>\n      <td>6.00%</td>\n      <td>5604501.0</td>\n    </tr>\n    <tr>\n      <th>21</th>\n      <td>new_jersey</td>\n      <td>20-Oct</td>\n      <td>803096172</td>\n      <td>58508647</td>\n      <td>7.30%</td>\n      <td>7440873.0</td>\n    </tr>\n    <tr>\n      <th>22</th>\n      <td>new_jersey</td>\n      <td>20-Nov</td>\n      <td>931620415</td>\n      <td>50554535</td>\n      <td>5.40%</td>\n      <td>6233822.0</td>\n    </tr>\n    <tr>\n      <th>23</th>\n      <td>new_jersey</td>\n      <td>20-Dec</td>\n      <td>996300794</td>\n      <td>66386516</td>\n      <td>6.70%</td>\n      <td>8269676.0</td>\n    </tr>\n  </tbody>\n</table>\n</div>"
     },
     "metadata": {},
     "execution_count": 4
    }
   ],
   "source": [
    "nj = complete[complete['State'] == 'new_jersey']\n",
    "nj"
   ]
  },
  {
   "cell_type": "code",
   "execution_count": 29,
   "metadata": {},
   "outputs": [
    {
     "output_type": "display_data",
     "data": {
      "application/vnd.plotly.v1+json": {
       "config": {
        "plotlyServerURL": "https://plot.ly"
       },
       "data": [
        {
         "name": "New Jersey",
         "type": "scatter",
         "x": [
          "20-Apr",
          "20-May",
          "20-Jun",
          "20-Jul",
          "20-Aug",
          "20-Sep",
          "20-Oct",
          "20-Nov",
          "20-Dec"
         ],
         "y": [
          2634050,
          9912062,
          12639282,
          29551987,
          39507181,
          45083178,
          58508647,
          50554535,
          66386516
         ]
        }
       ],
       "frames": [
        {
         "data": [
          {
           "type": "scatter",
           "x": [
            "20-Apr"
           ],
           "y": [
            2634050
           ]
          }
         ]
        },
        {
         "data": [
          {
           "type": "scatter",
           "x": [
            "20-Apr",
            "20-May"
           ],
           "y": [
            2634050,
            9912062
           ]
          }
         ]
        },
        {
         "data": [
          {
           "type": "scatter",
           "x": [
            "20-Apr",
            "20-May",
            "20-Jun"
           ],
           "y": [
            2634050,
            9912062,
            12639282
           ]
          }
         ]
        },
        {
         "data": [
          {
           "type": "scatter",
           "x": [
            "20-Apr",
            "20-May",
            "20-Jun",
            "20-Jul"
           ],
           "y": [
            2634050,
            9912062,
            12639282,
            29551987
           ]
          }
         ]
        },
        {
         "data": [
          {
           "type": "scatter",
           "x": [
            "20-Apr",
            "20-May",
            "20-Jun",
            "20-Jul",
            "20-Aug"
           ],
           "y": [
            2634050,
            9912062,
            12639282,
            29551987,
            39507181
           ]
          }
         ]
        },
        {
         "data": [
          {
           "type": "scatter",
           "x": [
            "20-Apr",
            "20-May",
            "20-Jun",
            "20-Jul",
            "20-Aug",
            "20-Sep"
           ],
           "y": [
            2634050,
            9912062,
            12639282,
            29551987,
            39507181,
            45083178
           ]
          }
         ]
        },
        {
         "data": [
          {
           "type": "scatter",
           "x": [
            "20-Apr",
            "20-May",
            "20-Jun",
            "20-Jul",
            "20-Aug",
            "20-Sep",
            "20-Oct"
           ],
           "y": [
            2634050,
            9912062,
            12639282,
            29551987,
            39507181,
            45083178,
            58508647
           ]
          }
         ]
        }
       ],
       "layout": {
        "font": {
         "family": "Tahoma",
         "size": 12
        },
        "legend": {
         "title": {
          "text": "Comparison"
         }
        },
        "paper_bgcolor": "rgba(0,0,0,0)",
        "template": {
         "data": {
          "bar": [
           {
            "error_x": {
             "color": "rgb(36,36,36)"
            },
            "error_y": {
             "color": "rgb(36,36,36)"
            },
            "marker": {
             "line": {
              "color": "rgb(234,234,242)",
              "width": 0.5
             }
            },
            "type": "bar"
           }
          ],
          "barpolar": [
           {
            "marker": {
             "line": {
              "color": "rgb(234,234,242)",
              "width": 0.5
             }
            },
            "type": "barpolar"
           }
          ],
          "carpet": [
           {
            "aaxis": {
             "endlinecolor": "rgb(36,36,36)",
             "gridcolor": "white",
             "linecolor": "white",
             "minorgridcolor": "white",
             "startlinecolor": "rgb(36,36,36)"
            },
            "baxis": {
             "endlinecolor": "rgb(36,36,36)",
             "gridcolor": "white",
             "linecolor": "white",
             "minorgridcolor": "white",
             "startlinecolor": "rgb(36,36,36)"
            },
            "type": "carpet"
           }
          ],
          "choropleth": [
           {
            "colorbar": {
             "outlinewidth": 0,
             "tickcolor": "rgb(36,36,36)",
             "ticklen": 8,
             "ticks": "outside",
             "tickwidth": 2
            },
            "type": "choropleth"
           }
          ],
          "contour": [
           {
            "colorbar": {
             "outlinewidth": 0,
             "tickcolor": "rgb(36,36,36)",
             "ticklen": 8,
             "ticks": "outside",
             "tickwidth": 2
            },
            "colorscale": [
             [
              0,
              "rgb(2,4,25)"
             ],
             [
              0.06274509803921569,
              "rgb(24,15,41)"
             ],
             [
              0.12549019607843137,
              "rgb(47,23,57)"
             ],
             [
              0.18823529411764706,
              "rgb(71,28,72)"
             ],
             [
              0.25098039215686274,
              "rgb(97,30,82)"
             ],
             [
              0.3137254901960784,
              "rgb(123,30,89)"
             ],
             [
              0.3764705882352941,
              "rgb(150,27,91)"
             ],
             [
              0.4392156862745098,
              "rgb(177,22,88)"
             ],
             [
              0.5019607843137255,
              "rgb(203,26,79)"
             ],
             [
              0.5647058823529412,
              "rgb(223,47,67)"
             ],
             [
              0.6274509803921569,
              "rgb(236,76,61)"
             ],
             [
              0.6901960784313725,
              "rgb(242,107,73)"
             ],
             [
              0.7529411764705882,
              "rgb(244,135,95)"
             ],
             [
              0.8156862745098039,
              "rgb(245,162,122)"
             ],
             [
              0.8784313725490196,
              "rgb(246,188,153)"
             ],
             [
              0.9411764705882353,
              "rgb(247,212,187)"
             ],
             [
              1,
              "rgb(250,234,220)"
             ]
            ],
            "type": "contour"
           }
          ],
          "contourcarpet": [
           {
            "colorbar": {
             "outlinewidth": 0,
             "tickcolor": "rgb(36,36,36)",
             "ticklen": 8,
             "ticks": "outside",
             "tickwidth": 2
            },
            "type": "contourcarpet"
           }
          ],
          "heatmap": [
           {
            "colorbar": {
             "outlinewidth": 0,
             "tickcolor": "rgb(36,36,36)",
             "ticklen": 8,
             "ticks": "outside",
             "tickwidth": 2
            },
            "colorscale": [
             [
              0,
              "rgb(2,4,25)"
             ],
             [
              0.06274509803921569,
              "rgb(24,15,41)"
             ],
             [
              0.12549019607843137,
              "rgb(47,23,57)"
             ],
             [
              0.18823529411764706,
              "rgb(71,28,72)"
             ],
             [
              0.25098039215686274,
              "rgb(97,30,82)"
             ],
             [
              0.3137254901960784,
              "rgb(123,30,89)"
             ],
             [
              0.3764705882352941,
              "rgb(150,27,91)"
             ],
             [
              0.4392156862745098,
              "rgb(177,22,88)"
             ],
             [
              0.5019607843137255,
              "rgb(203,26,79)"
             ],
             [
              0.5647058823529412,
              "rgb(223,47,67)"
             ],
             [
              0.6274509803921569,
              "rgb(236,76,61)"
             ],
             [
              0.6901960784313725,
              "rgb(242,107,73)"
             ],
             [
              0.7529411764705882,
              "rgb(244,135,95)"
             ],
             [
              0.8156862745098039,
              "rgb(245,162,122)"
             ],
             [
              0.8784313725490196,
              "rgb(246,188,153)"
             ],
             [
              0.9411764705882353,
              "rgb(247,212,187)"
             ],
             [
              1,
              "rgb(250,234,220)"
             ]
            ],
            "type": "heatmap"
           }
          ],
          "heatmapgl": [
           {
            "colorbar": {
             "outlinewidth": 0,
             "tickcolor": "rgb(36,36,36)",
             "ticklen": 8,
             "ticks": "outside",
             "tickwidth": 2
            },
            "colorscale": [
             [
              0,
              "rgb(2,4,25)"
             ],
             [
              0.06274509803921569,
              "rgb(24,15,41)"
             ],
             [
              0.12549019607843137,
              "rgb(47,23,57)"
             ],
             [
              0.18823529411764706,
              "rgb(71,28,72)"
             ],
             [
              0.25098039215686274,
              "rgb(97,30,82)"
             ],
             [
              0.3137254901960784,
              "rgb(123,30,89)"
             ],
             [
              0.3764705882352941,
              "rgb(150,27,91)"
             ],
             [
              0.4392156862745098,
              "rgb(177,22,88)"
             ],
             [
              0.5019607843137255,
              "rgb(203,26,79)"
             ],
             [
              0.5647058823529412,
              "rgb(223,47,67)"
             ],
             [
              0.6274509803921569,
              "rgb(236,76,61)"
             ],
             [
              0.6901960784313725,
              "rgb(242,107,73)"
             ],
             [
              0.7529411764705882,
              "rgb(244,135,95)"
             ],
             [
              0.8156862745098039,
              "rgb(245,162,122)"
             ],
             [
              0.8784313725490196,
              "rgb(246,188,153)"
             ],
             [
              0.9411764705882353,
              "rgb(247,212,187)"
             ],
             [
              1,
              "rgb(250,234,220)"
             ]
            ],
            "type": "heatmapgl"
           }
          ],
          "histogram": [
           {
            "marker": {
             "colorbar": {
              "outlinewidth": 0,
              "tickcolor": "rgb(36,36,36)",
              "ticklen": 8,
              "ticks": "outside",
              "tickwidth": 2
             }
            },
            "type": "histogram"
           }
          ],
          "histogram2d": [
           {
            "colorbar": {
             "outlinewidth": 0,
             "tickcolor": "rgb(36,36,36)",
             "ticklen": 8,
             "ticks": "outside",
             "tickwidth": 2
            },
            "colorscale": [
             [
              0,
              "rgb(2,4,25)"
             ],
             [
              0.06274509803921569,
              "rgb(24,15,41)"
             ],
             [
              0.12549019607843137,
              "rgb(47,23,57)"
             ],
             [
              0.18823529411764706,
              "rgb(71,28,72)"
             ],
             [
              0.25098039215686274,
              "rgb(97,30,82)"
             ],
             [
              0.3137254901960784,
              "rgb(123,30,89)"
             ],
             [
              0.3764705882352941,
              "rgb(150,27,91)"
             ],
             [
              0.4392156862745098,
              "rgb(177,22,88)"
             ],
             [
              0.5019607843137255,
              "rgb(203,26,79)"
             ],
             [
              0.5647058823529412,
              "rgb(223,47,67)"
             ],
             [
              0.6274509803921569,
              "rgb(236,76,61)"
             ],
             [
              0.6901960784313725,
              "rgb(242,107,73)"
             ],
             [
              0.7529411764705882,
              "rgb(244,135,95)"
             ],
             [
              0.8156862745098039,
              "rgb(245,162,122)"
             ],
             [
              0.8784313725490196,
              "rgb(246,188,153)"
             ],
             [
              0.9411764705882353,
              "rgb(247,212,187)"
             ],
             [
              1,
              "rgb(250,234,220)"
             ]
            ],
            "type": "histogram2d"
           }
          ],
          "histogram2dcontour": [
           {
            "colorbar": {
             "outlinewidth": 0,
             "tickcolor": "rgb(36,36,36)",
             "ticklen": 8,
             "ticks": "outside",
             "tickwidth": 2
            },
            "colorscale": [
             [
              0,
              "rgb(2,4,25)"
             ],
             [
              0.06274509803921569,
              "rgb(24,15,41)"
             ],
             [
              0.12549019607843137,
              "rgb(47,23,57)"
             ],
             [
              0.18823529411764706,
              "rgb(71,28,72)"
             ],
             [
              0.25098039215686274,
              "rgb(97,30,82)"
             ],
             [
              0.3137254901960784,
              "rgb(123,30,89)"
             ],
             [
              0.3764705882352941,
              "rgb(150,27,91)"
             ],
             [
              0.4392156862745098,
              "rgb(177,22,88)"
             ],
             [
              0.5019607843137255,
              "rgb(203,26,79)"
             ],
             [
              0.5647058823529412,
              "rgb(223,47,67)"
             ],
             [
              0.6274509803921569,
              "rgb(236,76,61)"
             ],
             [
              0.6901960784313725,
              "rgb(242,107,73)"
             ],
             [
              0.7529411764705882,
              "rgb(244,135,95)"
             ],
             [
              0.8156862745098039,
              "rgb(245,162,122)"
             ],
             [
              0.8784313725490196,
              "rgb(246,188,153)"
             ],
             [
              0.9411764705882353,
              "rgb(247,212,187)"
             ],
             [
              1,
              "rgb(250,234,220)"
             ]
            ],
            "type": "histogram2dcontour"
           }
          ],
          "mesh3d": [
           {
            "colorbar": {
             "outlinewidth": 0,
             "tickcolor": "rgb(36,36,36)",
             "ticklen": 8,
             "ticks": "outside",
             "tickwidth": 2
            },
            "type": "mesh3d"
           }
          ],
          "parcoords": [
           {
            "line": {
             "colorbar": {
              "outlinewidth": 0,
              "tickcolor": "rgb(36,36,36)",
              "ticklen": 8,
              "ticks": "outside",
              "tickwidth": 2
             }
            },
            "type": "parcoords"
           }
          ],
          "pie": [
           {
            "automargin": true,
            "type": "pie"
           }
          ],
          "scatter": [
           {
            "marker": {
             "colorbar": {
              "outlinewidth": 0,
              "tickcolor": "rgb(36,36,36)",
              "ticklen": 8,
              "ticks": "outside",
              "tickwidth": 2
             }
            },
            "type": "scatter"
           }
          ],
          "scatter3d": [
           {
            "line": {
             "colorbar": {
              "outlinewidth": 0,
              "tickcolor": "rgb(36,36,36)",
              "ticklen": 8,
              "ticks": "outside",
              "tickwidth": 2
             }
            },
            "marker": {
             "colorbar": {
              "outlinewidth": 0,
              "tickcolor": "rgb(36,36,36)",
              "ticklen": 8,
              "ticks": "outside",
              "tickwidth": 2
             }
            },
            "type": "scatter3d"
           }
          ],
          "scattercarpet": [
           {
            "marker": {
             "colorbar": {
              "outlinewidth": 0,
              "tickcolor": "rgb(36,36,36)",
              "ticklen": 8,
              "ticks": "outside",
              "tickwidth": 2
             }
            },
            "type": "scattercarpet"
           }
          ],
          "scattergeo": [
           {
            "marker": {
             "colorbar": {
              "outlinewidth": 0,
              "tickcolor": "rgb(36,36,36)",
              "ticklen": 8,
              "ticks": "outside",
              "tickwidth": 2
             }
            },
            "type": "scattergeo"
           }
          ],
          "scattergl": [
           {
            "marker": {
             "colorbar": {
              "outlinewidth": 0,
              "tickcolor": "rgb(36,36,36)",
              "ticklen": 8,
              "ticks": "outside",
              "tickwidth": 2
             }
            },
            "type": "scattergl"
           }
          ],
          "scattermapbox": [
           {
            "marker": {
             "colorbar": {
              "outlinewidth": 0,
              "tickcolor": "rgb(36,36,36)",
              "ticklen": 8,
              "ticks": "outside",
              "tickwidth": 2
             }
            },
            "type": "scattermapbox"
           }
          ],
          "scatterpolar": [
           {
            "marker": {
             "colorbar": {
              "outlinewidth": 0,
              "tickcolor": "rgb(36,36,36)",
              "ticklen": 8,
              "ticks": "outside",
              "tickwidth": 2
             }
            },
            "type": "scatterpolar"
           }
          ],
          "scatterpolargl": [
           {
            "marker": {
             "colorbar": {
              "outlinewidth": 0,
              "tickcolor": "rgb(36,36,36)",
              "ticklen": 8,
              "ticks": "outside",
              "tickwidth": 2
             }
            },
            "type": "scatterpolargl"
           }
          ],
          "scatterternary": [
           {
            "marker": {
             "colorbar": {
              "outlinewidth": 0,
              "tickcolor": "rgb(36,36,36)",
              "ticklen": 8,
              "ticks": "outside",
              "tickwidth": 2
             }
            },
            "type": "scatterternary"
           }
          ],
          "surface": [
           {
            "colorbar": {
             "outlinewidth": 0,
             "tickcolor": "rgb(36,36,36)",
             "ticklen": 8,
             "ticks": "outside",
             "tickwidth": 2
            },
            "colorscale": [
             [
              0,
              "rgb(2,4,25)"
             ],
             [
              0.06274509803921569,
              "rgb(24,15,41)"
             ],
             [
              0.12549019607843137,
              "rgb(47,23,57)"
             ],
             [
              0.18823529411764706,
              "rgb(71,28,72)"
             ],
             [
              0.25098039215686274,
              "rgb(97,30,82)"
             ],
             [
              0.3137254901960784,
              "rgb(123,30,89)"
             ],
             [
              0.3764705882352941,
              "rgb(150,27,91)"
             ],
             [
              0.4392156862745098,
              "rgb(177,22,88)"
             ],
             [
              0.5019607843137255,
              "rgb(203,26,79)"
             ],
             [
              0.5647058823529412,
              "rgb(223,47,67)"
             ],
             [
              0.6274509803921569,
              "rgb(236,76,61)"
             ],
             [
              0.6901960784313725,
              "rgb(242,107,73)"
             ],
             [
              0.7529411764705882,
              "rgb(244,135,95)"
             ],
             [
              0.8156862745098039,
              "rgb(245,162,122)"
             ],
             [
              0.8784313725490196,
              "rgb(246,188,153)"
             ],
             [
              0.9411764705882353,
              "rgb(247,212,187)"
             ],
             [
              1,
              "rgb(250,234,220)"
             ]
            ],
            "type": "surface"
           }
          ],
          "table": [
           {
            "cells": {
             "fill": {
              "color": "rgb(231,231,240)"
             },
             "line": {
              "color": "white"
             }
            },
            "header": {
             "fill": {
              "color": "rgb(183,183,191)"
             },
             "line": {
              "color": "white"
             }
            },
            "type": "table"
           }
          ]
         },
         "layout": {
          "annotationdefaults": {
           "arrowcolor": "rgb(67,103,167)"
          },
          "autotypenumbers": "strict",
          "coloraxis": {
           "colorbar": {
            "outlinewidth": 0,
            "tickcolor": "rgb(36,36,36)",
            "ticklen": 8,
            "ticks": "outside",
            "tickwidth": 2
           }
          },
          "colorscale": {
           "sequential": [
            [
             0,
             "rgb(2,4,25)"
            ],
            [
             0.06274509803921569,
             "rgb(24,15,41)"
            ],
            [
             0.12549019607843137,
             "rgb(47,23,57)"
            ],
            [
             0.18823529411764706,
             "rgb(71,28,72)"
            ],
            [
             0.25098039215686274,
             "rgb(97,30,82)"
            ],
            [
             0.3137254901960784,
             "rgb(123,30,89)"
            ],
            [
             0.3764705882352941,
             "rgb(150,27,91)"
            ],
            [
             0.4392156862745098,
             "rgb(177,22,88)"
            ],
            [
             0.5019607843137255,
             "rgb(203,26,79)"
            ],
            [
             0.5647058823529412,
             "rgb(223,47,67)"
            ],
            [
             0.6274509803921569,
             "rgb(236,76,61)"
            ],
            [
             0.6901960784313725,
             "rgb(242,107,73)"
            ],
            [
             0.7529411764705882,
             "rgb(244,135,95)"
            ],
            [
             0.8156862745098039,
             "rgb(245,162,122)"
            ],
            [
             0.8784313725490196,
             "rgb(246,188,153)"
            ],
            [
             0.9411764705882353,
             "rgb(247,212,187)"
            ],
            [
             1,
             "rgb(250,234,220)"
            ]
           ],
           "sequentialminus": [
            [
             0,
             "rgb(2,4,25)"
            ],
            [
             0.06274509803921569,
             "rgb(24,15,41)"
            ],
            [
             0.12549019607843137,
             "rgb(47,23,57)"
            ],
            [
             0.18823529411764706,
             "rgb(71,28,72)"
            ],
            [
             0.25098039215686274,
             "rgb(97,30,82)"
            ],
            [
             0.3137254901960784,
             "rgb(123,30,89)"
            ],
            [
             0.3764705882352941,
             "rgb(150,27,91)"
            ],
            [
             0.4392156862745098,
             "rgb(177,22,88)"
            ],
            [
             0.5019607843137255,
             "rgb(203,26,79)"
            ],
            [
             0.5647058823529412,
             "rgb(223,47,67)"
            ],
            [
             0.6274509803921569,
             "rgb(236,76,61)"
            ],
            [
             0.6901960784313725,
             "rgb(242,107,73)"
            ],
            [
             0.7529411764705882,
             "rgb(244,135,95)"
            ],
            [
             0.8156862745098039,
             "rgb(245,162,122)"
            ],
            [
             0.8784313725490196,
             "rgb(246,188,153)"
            ],
            [
             0.9411764705882353,
             "rgb(247,212,187)"
            ],
            [
             1,
             "rgb(250,234,220)"
            ]
           ]
          },
          "colorway": [
           "rgb(76,114,176)",
           "rgb(221,132,82)",
           "rgb(85,168,104)",
           "rgb(196,78,82)",
           "rgb(129,114,179)",
           "rgb(147,120,96)",
           "rgb(218,139,195)",
           "rgb(140,140,140)",
           "rgb(204,185,116)",
           "rgb(100,181,205)"
          ],
          "font": {
           "color": "rgb(36,36,36)"
          },
          "geo": {
           "bgcolor": "white",
           "lakecolor": "white",
           "landcolor": "rgb(234,234,242)",
           "showlakes": true,
           "showland": true,
           "subunitcolor": "white"
          },
          "hoverlabel": {
           "align": "left"
          },
          "hovermode": "closest",
          "paper_bgcolor": "white",
          "plot_bgcolor": "rgb(234,234,242)",
          "polar": {
           "angularaxis": {
            "gridcolor": "white",
            "linecolor": "white",
            "showgrid": true,
            "ticks": ""
           },
           "bgcolor": "rgb(234,234,242)",
           "radialaxis": {
            "gridcolor": "white",
            "linecolor": "white",
            "showgrid": true,
            "ticks": ""
           }
          },
          "scene": {
           "xaxis": {
            "backgroundcolor": "rgb(234,234,242)",
            "gridcolor": "white",
            "gridwidth": 2,
            "linecolor": "white",
            "showbackground": true,
            "showgrid": true,
            "ticks": "",
            "zerolinecolor": "white"
           },
           "yaxis": {
            "backgroundcolor": "rgb(234,234,242)",
            "gridcolor": "white",
            "gridwidth": 2,
            "linecolor": "white",
            "showbackground": true,
            "showgrid": true,
            "ticks": "",
            "zerolinecolor": "white"
           },
           "zaxis": {
            "backgroundcolor": "rgb(234,234,242)",
            "gridcolor": "white",
            "gridwidth": 2,
            "linecolor": "white",
            "showbackground": true,
            "showgrid": true,
            "ticks": "",
            "zerolinecolor": "white"
           }
          },
          "shapedefaults": {
           "fillcolor": "rgb(67,103,167)",
           "line": {
            "width": 0
           },
           "opacity": 0.5
          },
          "ternary": {
           "aaxis": {
            "gridcolor": "white",
            "linecolor": "white",
            "showgrid": true,
            "ticks": ""
           },
           "baxis": {
            "gridcolor": "white",
            "linecolor": "white",
            "showgrid": true,
            "ticks": ""
           },
           "bgcolor": "rgb(234,234,242)",
           "caxis": {
            "gridcolor": "white",
            "linecolor": "white",
            "showgrid": true,
            "ticks": ""
           }
          },
          "xaxis": {
           "automargin": true,
           "gridcolor": "white",
           "linecolor": "white",
           "showgrid": true,
           "ticks": "",
           "title": {
            "standoff": 15
           },
           "zerolinecolor": "white"
          },
          "yaxis": {
           "automargin": true,
           "gridcolor": "white",
           "linecolor": "white",
           "showgrid": true,
           "ticks": "",
           "title": {
            "standoff": 15
           },
           "zerolinecolor": "white"
          }
         }
        },
        "title": {
         "text": "New Jersey - Sports Betting Revenue"
        },
        "xaxis": {
         "title": {
          "text": "Date"
         }
        },
        "yaxis": {
         "title": {
          "text": "Revenue"
         }
        }
       }
      }
     },
     "metadata": {}
    }
   ],
   "source": [
    "nj = nj.loc[15:]\n",
    "\n",
    "\n",
    "fig = go.Figure(layout=go.Layout(title=\"New Jersey - Sports Betting Revenue\"))\n",
    "# Add traces\n",
    "init = 1\n",
    "fig.add_trace(go.Scatter(x=nj['Date'], y=nj['Revenue'], name='New Jersey'))\n",
    "# Animation\n",
    "fig.update(frames=[go.Frame(data=[go.Scatter(x=nj['Date'][:k], y=nj['Revenue'][:k])]) for k in range(init, len(nj)-1)])\n",
    "fig.update_layout(xaxis_title=\"Date\", yaxis_title=\"Revenue\", template='seaborn', legend_title=\"Comparison\", paper_bgcolor='rgba(0,0,0,0)', font=dict(family='Tahoma', size=12))\n",
    "\n",
    "fig.show()"
   ]
  },
  {
   "cell_type": "code",
   "execution_count": 85,
   "metadata": {},
   "outputs": [],
   "source": [
    "complete.to_csv('complete.csv', index=False)"
   ]
  },
  {
   "cell_type": "code",
   "execution_count": null,
   "metadata": {},
   "outputs": [],
   "source": []
  }
 ]
}